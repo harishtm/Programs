{
 "cells": [
  {
   "cell_type": "raw",
   "id": "2d485e58",
   "metadata": {},
   "source": [
    "Public Access Modifier:\n",
    "The members of a class that are declared public are easily accessible from any part of the program. All data members and member functions of a class are public by default."
   ]
  },
  {
   "cell_type": "raw",
   "id": "352fb86d",
   "metadata": {},
   "source": [
    "Private Access Modifier:\n",
    "The members of a class that are declared private are accessible within the class only, private access modifier is the most secure access modifier. Data members of a class are declared private by adding a double underscore ‘__’ symbol before the data member of that class."
   ]
  },
  {
   "cell_type": "raw",
   "id": "4f609dce",
   "metadata": {},
   "source": [
    "Protected Access Modifier:\n",
    "The members of a class that are declared protected are only accessible to a class derived from it. Data members of a class are declared protected by adding a single underscore ‘_’ symbol before the data member of that class."
   ]
  },
  {
   "cell_type": "code",
   "execution_count": 1,
   "id": "2f18b0a8",
   "metadata": {},
   "outputs": [],
   "source": [
    "class Base:\n",
    "    \n",
    "    # public method\n",
    "    def func(self):\n",
    "        print(\"Public method\")\n",
    "        \n",
    "    def __func(self):\n",
    "        print(\"Private method\")"
   ]
  },
  {
   "cell_type": "code",
   "execution_count": 2,
   "id": "1c6a2d2a",
   "metadata": {},
   "outputs": [],
   "source": [
    "class Derived(Base):\n",
    "    \n",
    "    def __init__(self):\n",
    "        Base.__init__(self)\n",
    "    \n",
    "    def call_public(self):\n",
    "        print(\"In derived class\")\n",
    "        self.func()\n",
    "    \n",
    "    def call_private(self):\n",
    "        self.__func()"
   ]
  },
  {
   "cell_type": "code",
   "execution_count": 3,
   "id": "47880719",
   "metadata": {},
   "outputs": [],
   "source": [
    "obj1 = Base()"
   ]
  },
  {
   "cell_type": "code",
   "execution_count": 4,
   "id": "52458d92",
   "metadata": {},
   "outputs": [
    {
     "name": "stdout",
     "output_type": "stream",
     "text": [
      "Public method\n"
     ]
    }
   ],
   "source": [
    "# calling public method\n",
    "obj1.func()"
   ]
  },
  {
   "cell_type": "code",
   "execution_count": 5,
   "id": "be38e1c0",
   "metadata": {},
   "outputs": [],
   "source": [
    "obj2 = Derived()"
   ]
  },
  {
   "cell_type": "code",
   "execution_count": 6,
   "id": "faac761e",
   "metadata": {},
   "outputs": [
    {
     "name": "stdout",
     "output_type": "stream",
     "text": [
      "In derived class\n",
      "Public method\n"
     ]
    }
   ],
   "source": [
    "obj2.call_public()"
   ]
  },
  {
   "cell_type": "code",
   "execution_count": 7,
   "id": "2f477ddd",
   "metadata": {},
   "outputs": [
    {
     "ename": "AttributeError",
     "evalue": "'Derived' object has no attribute '_Derived__func'",
     "output_type": "error",
     "traceback": [
      "\u001b[0;31m---------------------------------------------------------------------------\u001b[0m",
      "\u001b[0;31mAttributeError\u001b[0m                            Traceback (most recent call last)",
      "\u001b[0;32m<ipython-input-7-ec8c69d04ff9>\u001b[0m in \u001b[0;36m<module>\u001b[0;34m\u001b[0m\n\u001b[0;32m----> 1\u001b[0;31m \u001b[0mobj2\u001b[0m\u001b[0;34m.\u001b[0m\u001b[0mcall_private\u001b[0m\u001b[0;34m(\u001b[0m\u001b[0;34m)\u001b[0m\u001b[0;34m\u001b[0m\u001b[0;34m\u001b[0m\u001b[0m\n\u001b[0m",
      "\u001b[0;32m<ipython-input-2-33421ed3ab22>\u001b[0m in \u001b[0;36mcall_private\u001b[0;34m(self)\u001b[0m\n\u001b[1;32m      9\u001b[0m \u001b[0;34m\u001b[0m\u001b[0m\n\u001b[1;32m     10\u001b[0m     \u001b[0;32mdef\u001b[0m \u001b[0mcall_private\u001b[0m\u001b[0;34m(\u001b[0m\u001b[0mself\u001b[0m\u001b[0;34m)\u001b[0m\u001b[0;34m:\u001b[0m\u001b[0;34m\u001b[0m\u001b[0;34m\u001b[0m\u001b[0m\n\u001b[0;32m---> 11\u001b[0;31m         \u001b[0mself\u001b[0m\u001b[0;34m.\u001b[0m\u001b[0m__func\u001b[0m\u001b[0;34m(\u001b[0m\u001b[0;34m)\u001b[0m\u001b[0;34m\u001b[0m\u001b[0;34m\u001b[0m\u001b[0m\n\u001b[0m",
      "\u001b[0;31mAttributeError\u001b[0m: 'Derived' object has no attribute '_Derived__func'"
     ]
    }
   ],
   "source": [
    "obj2.call_private()"
   ]
  },
  {
   "cell_type": "code",
   "execution_count": null,
   "id": "62e63ad9",
   "metadata": {},
   "outputs": [],
   "source": []
  }
 ],
 "metadata": {
  "kernelspec": {
   "display_name": "Python 3",
   "language": "python",
   "name": "python3"
  },
  "language_info": {
   "codemirror_mode": {
    "name": "ipython",
    "version": 3
   },
   "file_extension": ".py",
   "mimetype": "text/x-python",
   "name": "python",
   "nbconvert_exporter": "python",
   "pygments_lexer": "ipython3",
   "version": "3.9.0"
  }
 },
 "nbformat": 4,
 "nbformat_minor": 5
}
