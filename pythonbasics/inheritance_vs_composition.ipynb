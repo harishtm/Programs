{
 "cells": [
  {
   "cell_type": "markdown",
   "metadata": {},
   "source": [
    "What is Composition?\n",
    " - The composition means having a container object that contains other objects."
   ]
  },
  {
   "cell_type": "markdown",
   "metadata": {},
   "source": [
    "What is the Difference between Inheritance and Composition?\n",
    "- In Inheritance, a class is inherited (extended) by a new sub-class that will add custom attributes and behavior to the inherited ones.\n",
    "\n",
    "- In Composition, a class is utilized by creating an instance of it, and including that instance inside another larger object."
   ]
  },
  {
   "cell_type": "markdown",
   "metadata": {},
   "source": [
    "__Inheritance extends (inherits) a class, while Composition uses an instance of the class.__"
   ]
  },
  {
   "cell_type": "code",
   "execution_count": 1,
   "metadata": {},
   "outputs": [],
   "source": [
    "class Math1:\n",
    "    def __init__(self, x, y):\n",
    "        self.x = x\n",
    "        self.y = y\n",
    "    def add(self):\n",
    "        return self.x + self.y\n",
    "    def substract(self):\n",
    "        return self.x - self.y\n",
    "    "
   ]
  },
  {
   "cell_type": "code",
   "execution_count": 2,
   "metadata": {},
   "outputs": [],
   "source": [
    "class Math2:\n",
    "    def __init__(self, x, y):\n",
    "        self.x = x\n",
    "        self.y = y\n",
    "    def multiply(self):\n",
    "        return self.x * self.y\n",
    "    def divide(self):\n",
    "        return self.x/self.y"
   ]
  },
  {
   "cell_type": "markdown",
   "metadata": {},
   "source": [
    "In this example, we have two classes: Math and Math2. Math has two member functions that perform addition and subtraction, while Math2 has two methods that perform multiplication and division. We need to utilize the existing classes and offer (besides to the four available operations) a new operation which is the power function."
   ]
  },
  {
   "cell_type": "code",
   "execution_count": 4,
   "metadata": {},
   "outputs": [],
   "source": [
    "class Math3:\n",
    "    def __init__(self, x, y):\n",
    "        self.x = x\n",
    "        self.y = y\n",
    "        self.m1 = Math1(x, y)\n",
    "        self.m2 = Math2(x, y)\n",
    "    def power(self):\n",
    "        return self.x ** self.y\n",
    "    def add(self):\n",
    "        return self.m1.add()\n",
    "    def substract(self):\n",
    "        return self.m1.substract()\n",
    "    def multiply(self):\n",
    "        return self.m2.multiply()\n",
    "    def divide(self):\n",
    "        return self.m2.divide()"
   ]
  },
  {
   "cell_type": "code",
   "execution_count": 8,
   "metadata": {},
   "outputs": [],
   "source": [
    "obj = Math3(4, 2)"
   ]
  },
  {
   "cell_type": "code",
   "execution_count": 9,
   "metadata": {},
   "outputs": [
    {
     "data": {
      "text/plain": [
       "(6, 2, 16, 2.0, 8)"
      ]
     },
     "execution_count": 9,
     "metadata": {},
     "output_type": "execute_result"
    }
   ],
   "source": [
    "obj.add(), obj.substract(), obj.power(), obj.divide(), obj.multiply()"
   ]
  },
  {
   "cell_type": "markdown",
   "metadata": {},
   "source": [
    "- Have defined a normal class, and defined the __init__ method (the constructor) to initialize the instances.\n",
    "- Among what will be initialized in the __init__ function are two objects m1 and m2, one is an instance of the Math class, while the other is an instance of the Math2 class.\n",
    "- Have defined the new method power. After that I defined what could be considered a delegation from the new class to the contained objects.\n",
    "- defined the member function add, that will call the m1 member function add. Similarly, the subtract and multiply methods have been declared."
   ]
  },
  {
   "cell_type": "markdown",
   "metadata": {},
   "source": [
    "- We have two existing classes, each achieve part of the data processing we need. Instead of writing one new class that achieves the whole process from scratch, we need to make use of the existing ones.\n",
    "- So, the solution is to create a new class that defines instances (objects) of the existing classes. Now, we have in hand all two objects, each of them has data and methods.\n",
    "- The new class defines the new data and methods that it was basically created to achieve, and on need delegates some of the required operations to the member functions of the defined objects (the instances of the existing classes).\n",
    "- Notice the usage of the word “delegate” which means to assign a job to someone who is known to do it well.\n",
    "- So, as the composition actually includes delegating some functions to objects, some references use the term delegation instead of composition."
   ]
  },
  {
   "cell_type": "code",
   "execution_count": null,
   "metadata": {},
   "outputs": [],
   "source": []
  }
 ],
 "metadata": {
  "kernelspec": {
   "display_name": "Python 3",
   "language": "python",
   "name": "python3"
  },
  "language_info": {
   "codemirror_mode": {
    "name": "ipython",
    "version": 3
   },
   "file_extension": ".py",
   "mimetype": "text/x-python",
   "name": "python",
   "nbconvert_exporter": "python",
   "pygments_lexer": "ipython3",
   "version": "3.9.0"
  }
 },
 "nbformat": 4,
 "nbformat_minor": 4
}
