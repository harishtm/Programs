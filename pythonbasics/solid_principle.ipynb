{
 "cells": [
  {
   "cell_type": "markdown",
   "metadata": {},
   "source": [
    "SOLID"
   ]
  },
  {
   "cell_type": "markdown",
   "metadata": {},
   "source": [
    "- Single Responsibility Principle\n",
    "- Open-Closed Principle\n",
    "- Liskov Substitution Principle\n",
    "- Interface Segregation Principle\n",
    "- Dependecy Inversion Principle"
   ]
  },
  {
   "cell_type": "markdown",
   "metadata": {},
   "source": [
    "__Single Responsibility Principle__\n",
    "- The Single Responsibility Principle requires that a class should have only one job. So if a class has more than one responsibility, it becomes coupled. A change to one responsibility results to modification of the other responsibility."
   ]
  },
  {
   "cell_type": "code",
   "execution_count": 1,
   "metadata": {},
   "outputs": [],
   "source": [
    "#Below is Given a class which has two responsibilities \n",
    "class  User:\n",
    "    def __init__(self, name: str):\n",
    "        self.name = name\n",
    "    \n",
    "    def get_name(self) -> str:\n",
    "        pass\n",
    "\n",
    "    def save(self, user):\n",
    "        pass"
   ]
  },
  {
   "cell_type": "markdown",
   "metadata": {},
   "source": [
    "- We have a User class which is responsible for both the user properties and user database management.\n",
    "- If the application changes in a way that it affect database management functions. The classes that make use of User properties will have to be touched and recompiled to compensate for the new changes.\n",
    "- It’s like a domino effect, touch one card it affects all other cards in line."
   ]
  },
  {
   "cell_type": "markdown",
   "metadata": {},
   "source": [
    "So we simply split the class, we create another class that will handle the one responsibility of storing an user to a database and other for properties:"
   ]
  },
  {
   "cell_type": "code",
   "execution_count": 2,
   "metadata": {},
   "outputs": [],
   "source": [
    "class User:\n",
    "    def __init__(self, name: str):\n",
    "            self.name = name\n",
    "    \n",
    "    def get_name(self):\n",
    "        pass\n",
    "\n",
    "\n",
    "class UserDB:\n",
    "    def get_user(self, id) -> User:\n",
    "        pass\n",
    "\n",
    "    def save(self, user: User):\n",
    "        pass"
   ]
  },
  {
   "cell_type": "markdown",
   "metadata": {},
   "source": [
    "- A common solution to this dilemma is to apply the Facade pattern. For introduction to Facade pattern you can read more.\n",
    "- User class will be the Facade for user database management and user properties management."
   ]
  },
  {
   "cell_type": "markdown",
   "metadata": {},
   "source": [
    "__Open-Closed Principle__\n",
    "\n",
    "- Software entities(Classes, modules, functions) should be open for extension, not modification."
   ]
  },
  {
   "cell_type": "markdown",
   "metadata": {},
   "source": [
    "- Let’s imagine you have a store, and you give a discount of 20% to your favorite customers using this class:\n",
    "- When you decide to offer double the 20% discount to VIP customers. You may modify the class like this:"
   ]
  },
  {
   "cell_type": "code",
   "execution_count": 3,
   "metadata": {},
   "outputs": [],
   "source": [
    "class Discount:\n",
    "\n",
    "    def __init__(self, customer, price):\n",
    "        self.customer = customer\n",
    "        self.price = price\n",
    "\n",
    "    def get_discount(self):\n",
    "        if self.customer == 'fav':\n",
    "            return self.price * 0.2\n",
    "        if self.customer == 'vip':\n",
    "            return self.price * 0.4"
   ]
  },
  {
   "cell_type": "markdown",
   "metadata": {},
   "source": [
    "- The above code fails the OCP principle. OCP forbids it.\n",
    "- If we want to give a new percent discount maybe, to a different type of customers, you will see that a new logic will be added.\n",
    "- To make it follow the OCP principle, we will add a new class that will extend the Discount.\n",
    "- In this new class, we would implement its new behavior"
   ]
  },
  {
   "cell_type": "code",
   "execution_count": 4,
   "metadata": {},
   "outputs": [],
   "source": [
    "class Discount:\n",
    "    \n",
    "    def __init__(self, customer, price):\n",
    "        self.customer = customer\n",
    "        self.price = price\n",
    "    \n",
    "    def get_discount(self):\n",
    "        return self.price * 0.2\n",
    "\n",
    "\n",
    "class VIPDiscount(Discount):\n",
    "    \n",
    "    def give_discount(self):\n",
    "        return super().get_discount() * 2"
   ]
  },
  {
   "cell_type": "markdown",
   "metadata": {},
   "source": [
    "If there is a requirement to give 80% discount to super VIP customers, then it can be achived without modifiying"
   ]
  },
  {
   "cell_type": "code",
   "execution_count": 5,
   "metadata": {},
   "outputs": [],
   "source": [
    "# Extension without modification\n",
    "\n",
    "class SuperVIPDiscount(VIPDiscount):\n",
    "    \n",
    "    def get_discount(self):\n",
    "        return super().get_discount() * 2"
   ]
  },
  {
   "cell_type": "markdown",
   "metadata": {},
   "source": [
    "__Liskov Substitution Principle with Python__"
   ]
  },
  {
   "cell_type": "markdown",
   "metadata": {},
   "source": [
    "- Derived classes must be substitutable for their base classes (or)\n",
    "- A sub-class must be substitutable for its super-class."
   ]
  },
  {
   "cell_type": "markdown",
   "metadata": {},
   "source": [
    "- The aim of this principle is to ascertain that a sub-class can assume the place of its super-class without errors.\n",
    "- If the code finds itself checking the type of class then, it must have violated this principle."
   ]
  },
  {
   "cell_type": "code",
   "execution_count": 6,
   "metadata": {},
   "outputs": [],
   "source": [
    "class Animal:\n",
    "    def leg_count(self):\n",
    "        pass\n",
    "\n",
    "\n",
    "class Lion(Animal):\n",
    "    def leg_count(self):\n",
    "        print(\"4 Legs\")\n",
    "\n",
    "    \n",
    "class Mouse(Animal):\n",
    "    def leg_count(self):\n",
    "        print(\"2 Legs\")\n",
    "    \n",
    "    \n",
    "class Pigeon(Animal):\n",
    "    def leg_count(self):\n",
    "        print(\"Special 2 Legs\")"
   ]
  },
  {
   "cell_type": "code",
   "execution_count": 7,
   "metadata": {},
   "outputs": [],
   "source": [
    "# Violation of LSP\n",
    "\n",
    "def animal_leg_count(animals: list):\n",
    "    for animal in animals:\n",
    "        if isinstance(animal, Lion):\n",
    "            print(lion_leg_count(animal))\n",
    "        elif isinstance(animal, Mouse):\n",
    "            print(mouse_leg_count(animal))\n",
    "        elif isinstance(animal, Pigeon):\n",
    "            print(pigeon_leg_count(animal))"
   ]
  },
  {
   "cell_type": "markdown",
   "metadata": {},
   "source": [
    "- To make this function follow the LSP principle, we will follow this LSP\n",
    "requirements postulated by Steve Fenton:\n",
    "- If the super-class (Animal) has a method that accepts a super-class type (Animal) parameter. \n",
    "- Its sub-class(Pigeon) should accept as argument a super-class type (Animal type) or sub-class type(Pigeon type).  - If the super-class returns a super-class type (Animal). Its sub-class should return a super-class type (Animal type) or sub-class type(Pigeon).\n",
    "- Now, we can re-implement animal_leg_count function:"
   ]
  },
  {
   "cell_type": "code",
   "execution_count": 8,
   "metadata": {},
   "outputs": [],
   "source": [
    "# animals = [Lion()]\n",
    "# animal_leg_count(animals)"
   ]
  },
  {
   "cell_type": "code",
   "execution_count": 9,
   "metadata": {},
   "outputs": [
    {
     "ename": "NameError",
     "evalue": "name 'animals' is not defined",
     "output_type": "error",
     "traceback": [
      "\u001b[0;31m---------------------------------------------------------------------------\u001b[0m",
      "\u001b[0;31mNameError\u001b[0m                                 Traceback (most recent call last)",
      "\u001b[0;32m<ipython-input-9-1ec330108c7f>\u001b[0m in \u001b[0;36m<module>\u001b[0;34m\u001b[0m\n\u001b[1;32m      4\u001b[0m         \u001b[0mprint\u001b[0m\u001b[0;34m(\u001b[0m\u001b[0manimal\u001b[0m\u001b[0;34m.\u001b[0m\u001b[0mleg_count\u001b[0m\u001b[0;34m(\u001b[0m\u001b[0;34m)\u001b[0m\u001b[0;34m)\u001b[0m\u001b[0;34m\u001b[0m\u001b[0;34m\u001b[0m\u001b[0m\n\u001b[1;32m      5\u001b[0m \u001b[0;34m\u001b[0m\u001b[0m\n\u001b[0;32m----> 6\u001b[0;31m \u001b[0manimal_leg_count\u001b[0m\u001b[0;34m(\u001b[0m\u001b[0manimals\u001b[0m\u001b[0;34m)\u001b[0m\u001b[0;34m\u001b[0m\u001b[0;34m\u001b[0m\u001b[0m\n\u001b[0m",
      "\u001b[0;31mNameError\u001b[0m: name 'animals' is not defined"
     ]
    }
   ],
   "source": [
    "# A valid implementation\n",
    "def animal_leg_count(animals: list):\n",
    "    for animal in animals:\n",
    "        print(animal.leg_count())\n",
    "        \n",
    "animal_leg_count(animals)"
   ]
  },
  {
   "cell_type": "markdown",
   "metadata": {},
   "source": [
    "__Interface Segregation Principle__\n",
    "\n",
    "- Make fine grained interfaces that are client specific Clients should not be forced to depend upon interfaces that they do not use.\n",
    "- This principle deals with the disadvantages of implementing big interfaces."
   ]
  },
  {
   "cell_type": "code",
   "execution_count": 10,
   "metadata": {},
   "outputs": [],
   "source": [
    "from abc import ABC, abstractmethod\n",
    "\n",
    "class IShape(ABC):\n",
    "    \n",
    "    @abstractmethod\n",
    "    def draw(self):\n",
    "        raise NotImplementedError"
   ]
  },
  {
   "cell_type": "code",
   "execution_count": 11,
   "metadata": {},
   "outputs": [
    {
     "ename": "TypeError",
     "evalue": "Can't instantiate abstract class Circle with abstract methods draw",
     "output_type": "error",
     "traceback": [
      "\u001b[0;31m---------------------------------------------------------------------------\u001b[0m",
      "\u001b[0;31mTypeError\u001b[0m                                 Traceback (most recent call last)",
      "\u001b[0;32m<ipython-input-11-7ba680832e9a>\u001b[0m in \u001b[0;36m<module>\u001b[0;34m\u001b[0m\n\u001b[1;32m      2\u001b[0m     \u001b[0;32mpass\u001b[0m\u001b[0;34m\u001b[0m\u001b[0;34m\u001b[0m\u001b[0m\n\u001b[1;32m      3\u001b[0m \u001b[0;34m\u001b[0m\u001b[0m\n\u001b[0;32m----> 4\u001b[0;31m \u001b[0mc\u001b[0m \u001b[0;34m=\u001b[0m \u001b[0mCircle\u001b[0m\u001b[0;34m(\u001b[0m\u001b[0;34m)\u001b[0m\u001b[0;34m\u001b[0m\u001b[0;34m\u001b[0m\u001b[0m\n\u001b[0m",
      "\u001b[0;31mTypeError\u001b[0m: Can't instantiate abstract class Circle with abstract methods draw"
     ]
    }
   ],
   "source": [
    "class Circle(IShape):\n",
    "    pass\n",
    "\n",
    "c = Circle()"
   ]
  },
  {
   "cell_type": "code",
   "execution_count": 12,
   "metadata": {},
   "outputs": [
    {
     "name": "stdout",
     "output_type": "stream",
     "text": [
      "In Circle\n"
     ]
    }
   ],
   "source": [
    "class Circle(IShape):\n",
    "    \n",
    "    def draw(self):\n",
    "        print(\"In Circle\")\n",
    "\n",
    "c = Circle()\n",
    "c.draw()"
   ]
  },
  {
   "cell_type": "code",
   "execution_count": 13,
   "metadata": {},
   "outputs": [],
   "source": [
    "from abc import ABC, abstractmethod\n",
    "\n",
    "\n",
    "class NetworkInterface(ABC):\n",
    "\n",
    "    @abstractmethod\n",
    "    def connect(self):\n",
    "        pass\n",
    "\n",
    "    @abstractmethod\n",
    "    def transfer(self):\n",
    "        pass\n",
    "\n",
    "\n",
    "class RealNetwork(NetworkInterface):\n",
    "\n",
    "    def connect(self):\n",
    "        # connect to something for real\n",
    "        return\n",
    "\n",
    "    def transfer(self):\n",
    "        # transfer a bunch of data\n",
    "        return\n",
    "\n",
    "\n",
    "class TemporaryNetwork(NetworkInterface):\n",
    "\n",
    "    def connect(self):\n",
    "        # don't actually connect to anything!\n",
    "        return\n",
    "\n",
    "    def transfer(self):\n",
    "        # don't transfer anything!\n",
    "        return"
   ]
  },
  {
   "cell_type": "markdown",
   "metadata": {},
   "source": [
    "- A single class can implement several interfaces if needed.\n",
    "- So we can provide a single implementation for all the common methods between the interfaces.\n",
    "- The segregated interfaces will also force us to think of our code more from the client’s point of view, which will in turn lead to loose coupling and easy testing.\n",
    "- So, not only have we made our code better to our clients, we also made it easier for ourselves to understand, test and implement."
   ]
  },
  {
   "cell_type": "markdown",
   "metadata": {},
   "source": [
    "__Dependecy Inversion Principle__\n",
    "\n",
    "- Dependency should be on abstractions not concretions.\n",
    "- High-level modules should not depend upon low-level modules. Both low and high level classes should depend on the same abstractions.\n",
    "- Abstractions should not depend on details. Details should depend upon abstractions."
   ]
  },
  {
   "cell_type": "markdown",
   "metadata": {},
   "source": [
    "Simple dependency inversion example Without Dependency Inversion Principle"
   ]
  },
  {
   "cell_type": "markdown",
   "metadata": {},
   "source": [
    "Let's assume we have a class that can print books called Printer. Before printing the book, it should be formatted. For this we will use a class called Formatter, which is used by Printer. "
   ]
  },
  {
   "cell_type": "code",
   "execution_count": 14,
   "metadata": {},
   "outputs": [],
   "source": [
    "class Book:\n",
    "    def __init__(self, content: str):\n",
    "        self.content = content\n",
    "\n",
    "\n",
    "class Formatter:\n",
    "    def format_content(self, book: Book):\n",
    "        return book.content\n",
    "\n",
    "\n",
    "class Printer:\n",
    "    def printt(self, book: Book):\n",
    "        formatter = Formatter()\n",
    "        formatted_book = formatter.format_content(book)"
   ]
  },
  {
   "cell_type": "markdown",
   "metadata": {},
   "source": [
    "- This example breaks the DIP because both Printer and Formatter depend on concretions, not abstractions.\n",
    "- This means we cannot use another Formatter or another type of Book."
   ]
  },
  {
   "cell_type": "markdown",
   "metadata": {},
   "source": [
    "- To fix this we have to create some abstractions and inject them wherever they are needed.\n",
    "- To accomplish this we can use Protocols"
   ]
  },
  {
   "cell_type": "code",
   "execution_count": 15,
   "metadata": {},
   "outputs": [],
   "source": [
    "class HasContentProtocol:\n",
    "    def __init__(self, content: str):\n",
    "        self.content = content\n",
    "\n",
    "\n",
    "class Book(HasContentProtocol):\n",
    "    def __init__(self, content):\n",
    "        self.content = content\n"
   ]
  },
  {
   "cell_type": "markdown",
   "metadata": {},
   "source": [
    "- Next we create a formatter Protocol and create a concrete formatter"
   ]
  },
  {
   "cell_type": "code",
   "execution_count": 16,
   "metadata": {},
   "outputs": [],
   "source": [
    "class FormatterProtocol:\n",
    "    def format_content(self, has_content: HasContentProtocol):\n",
    "        return has_content\n",
    "\n",
    "\n",
    "class A4Formatter(FormatterProtocol):\n",
    "    def format_content(self, has_content: HasContentProtocol):\n",
    "        return has_content.content\n"
   ]
  },
  {
   "cell_type": "markdown",
   "metadata": {},
   "source": [
    "- Creating the Printer class with the abstractions\n",
    "- Now we can inject the FormatterProtocol into the Printer"
   ]
  },
  {
   "cell_type": "code",
   "execution_count": 17,
   "metadata": {},
   "outputs": [],
   "source": [
    "class Printer:\n",
    "    def __init__(self, formatter: FormatterProtocol):\n",
    "        self.formatter = formatter\n",
    "\n",
    "    def print(self, has_content: HasContentProtocol):\n",
    "        formatted_book = self.formatter.format_content(has_content)"
   ]
  },
  {
   "cell_type": "markdown",
   "metadata": {},
   "source": [
    "- This way we don't have any dependencies on implementations, only on abstractions.\n",
    "- So when we want to print a book to A4 we can just use the A4Formatter like this:"
   ]
  },
  {
   "cell_type": "code",
   "execution_count": 18,
   "metadata": {},
   "outputs": [],
   "source": [
    "book = Book(\"Amazing book content\") # Book is a concretion of HasContentProtocol\n",
    "\n",
    "formatter = A4Formatter()\n",
    "printer = Printer(formatter)\n",
    "\n",
    "printer.print(book)"
   ]
  },
  {
   "cell_type": "markdown",
   "metadata": {},
   "source": [
    "And when we want to print the book to another format, we just create another concreate FormatterProtocol and use it when instantiating the printer"
   ]
  },
  {
   "cell_type": "markdown",
   "metadata": {},
   "source": [
    "__Why use Dependency Injection in your code__"
   ]
  },
  {
   "cell_type": "markdown",
   "metadata": {},
   "source": [
    "- Flexibility of configurable components: As the components are externally configured, there can be various definitions for a component(Control on application structure).\n",
    "- Testing Made Easy: Instantiating mock objects and integrating with class definitions is easier.\n",
    "- High cohesion:  Code with reduced module complexity, increased module reusability.\n",
    "- Minimalistic dependencies: As the dependencies are clearly defined, easier to eliminate/reduce unnecessary dependencies."
   ]
  },
  {
   "cell_type": "code",
   "execution_count": 2,
   "metadata": {},
   "outputs": [],
   "source": [
    "# Before"
   ]
  },
  {
   "cell_type": "code",
   "execution_count": 1,
   "metadata": {},
   "outputs": [],
   "source": [
    "import os\n",
    "\n",
    "\n",
    "class ApiClient:\n",
    "\n",
    "    def __init__(self):\n",
    "        self.api_key = os.getenv('API_KEY')  # <-- dependency\n",
    "        self.timeout = os.getenv('TIMEOUT')  # <-- dependency\n",
    "\n",
    "\n",
    "class Service:\n",
    "\n",
    "    def __init__(self):\n",
    "        self.api_client = ApiClient()  # <-- dependency\n",
    "\n",
    "\n",
    "def main() -> None:\n",
    "    service = Service()  # <-- dependency\n",
    "    ...\n",
    "\n",
    "\n",
    "if __name__ == '__main__':\n",
    "    main()"
   ]
  },
  {
   "cell_type": "code",
   "execution_count": 3,
   "metadata": {},
   "outputs": [],
   "source": [
    "# After"
   ]
  },
  {
   "cell_type": "code",
   "execution_count": 4,
   "metadata": {},
   "outputs": [],
   "source": [
    "import os\n",
    "\n",
    "\n",
    "class ApiClient:\n",
    "\n",
    "    def __init__(self, api_key: str, timeout: int):\n",
    "        self.api_key = api_key  # <-- dependency is injected\n",
    "        self.timeout = timeout  # <-- dependency is injected\n",
    "\n",
    "\n",
    "class Service:\n",
    "\n",
    "    def __init__(self, api_client: ApiClient):\n",
    "        self.api_client = api_client  # <-- dependency is injected\n",
    "\n",
    "\n",
    "def main(service: Service):  # <-- dependency is injected\n",
    "    ...\n",
    "\n",
    "\n",
    "if __name__ == '__main__':\n",
    "    main(\n",
    "        service=Service(\n",
    "            api_client=ApiClient(\n",
    "                api_key=os.getenv('API_KEY'),\n",
    "                timeout=os.getenv('TIMEOUT'),\n",
    "            ),\n",
    "        ),\n",
    "    )"
   ]
  },
  {
   "cell_type": "code",
   "execution_count": null,
   "metadata": {},
   "outputs": [],
   "source": []
  }
 ],
 "metadata": {
  "kernelspec": {
   "display_name": "Python 3",
   "language": "python",
   "name": "python3"
  },
  "language_info": {
   "codemirror_mode": {
    "name": "ipython",
    "version": 3
   },
   "file_extension": ".py",
   "mimetype": "text/x-python",
   "name": "python",
   "nbconvert_exporter": "python",
   "pygments_lexer": "ipython3",
   "version": "3.8.1"
  }
 },
 "nbformat": 4,
 "nbformat_minor": 4
}
