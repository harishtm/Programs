{
 "cells": [
  {
   "cell_type": "markdown",
   "metadata": {},
   "source": [
    "SOLID"
   ]
  },
  {
   "cell_type": "markdown",
   "metadata": {},
   "source": [
    "- Single Responsibility Principle\n",
    "- Open-Closed Principle\n",
    "- Liskov Substitution Principle\n",
    "- Interface Segregation Principle\n",
    "- Dependecy Inversion Principle"
   ]
  },
  {
   "cell_type": "markdown",
   "metadata": {},
   "source": [
    "__Single Responsibility Principle__\n",
    "- The Single Responsibility Principle requires that a class should have only one job. So if a class has more than one responsibility, it becomes coupled. A change to one responsibility results to modification of the other responsibility."
   ]
  },
  {
   "cell_type": "code",
   "execution_count": 5,
   "metadata": {},
   "outputs": [],
   "source": [
    "#Below is Given a class which has two responsibilities \n",
    "class  User:\n",
    "    def __init__(self, name: str):\n",
    "        self.name = name\n",
    "    \n",
    "    def get_name(self) -> str:\n",
    "        pass\n",
    "\n",
    "    def save(self, user):\n",
    "        pass"
   ]
  },
  {
   "cell_type": "markdown",
   "metadata": {},
   "source": [
    "- We have a User class which is responsible for both the user properties and user database management.\n",
    "- If the application changes in a way that it affect database management functions. The classes that make use of User properties will have to be touched and recompiled to compensate for the new changes.\n",
    "- It’s like a domino effect, touch one card it affects all other cards in line."
   ]
  },
  {
   "cell_type": "markdown",
   "metadata": {},
   "source": [
    "So we simply split the class, we create another class that will handle the one responsibility of storing an user to a database and other for properties:"
   ]
  },
  {
   "cell_type": "code",
   "execution_count": 6,
   "metadata": {},
   "outputs": [],
   "source": [
    "class User:\n",
    "    def __init__(self, name: str):\n",
    "            self.name = name\n",
    "    \n",
    "    def get_name(self):\n",
    "        pass\n",
    "\n",
    "\n",
    "class UserDB:\n",
    "    def get_user(self, id) -> User:\n",
    "        pass\n",
    "\n",
    "    def save(self, user: User):\n",
    "        pass"
   ]
  },
  {
   "cell_type": "markdown",
   "metadata": {},
   "source": [
    "- A common solution to this dilemma is to apply the Facade pattern. For introduction to Facade pattern you can read more.\n",
    "- User class will be the Facade for user database management and user properties management."
   ]
  },
  {
   "cell_type": "markdown",
   "metadata": {},
   "source": [
    "__Open-Closed Principle__\n",
    "\n",
    "- Software entities(Classes, modules, functions) should be open for extension, not modification."
   ]
  },
  {
   "cell_type": "markdown",
   "metadata": {},
   "source": [
    "- Let’s imagine you have a store, and you give a discount of 20% to your favorite customers using this class:\n",
    "- When you decide to offer double the 20% discount to VIP customers. You may modify the class like this:"
   ]
  },
  {
   "cell_type": "code",
   "execution_count": 8,
   "metadata": {},
   "outputs": [],
   "source": [
    "class Discount:\n",
    "\n",
    "    def __init__(self, customer, price):\n",
    "        self.customer = customer\n",
    "        self.price = price\n",
    "\n",
    "    def get_discount(self):\n",
    "        if self.customer == 'fav':\n",
    "            return self.price * 0.2\n",
    "        if self.customer == 'vip':\n",
    "            return self.price * 0.4"
   ]
  },
  {
   "cell_type": "markdown",
   "metadata": {},
   "source": [
    "- The above code fails the OCP principle. OCP forbids it.\n",
    "- If we want to give a new percent discount maybe, to a different type of customers, you will see that a new logic will be added.\n",
    "- To make it follow the OCP principle, we will add a new class that will extend the Discount.\n",
    "- In this new class, we would implement its new behavior"
   ]
  },
  {
   "cell_type": "code",
   "execution_count": 10,
   "metadata": {},
   "outputs": [],
   "source": [
    "class Discount:\n",
    "    \n",
    "    def __init__(self, customer, price):\n",
    "        self.customer = customer\n",
    "        self.price = price\n",
    "    \n",
    "    def get_discount(self):\n",
    "        return self.price * 0.2\n",
    "\n",
    "\n",
    "class VIPDiscount(Discount):\n",
    "    \n",
    "    def give_discount(self):\n",
    "        return super().get_discount() * 2"
   ]
  },
  {
   "cell_type": "markdown",
   "metadata": {},
   "source": [
    "If there is a requirement to give 80% discount to super VIP customers, then it can be achived without modifiying"
   ]
  },
  {
   "cell_type": "code",
   "execution_count": 12,
   "metadata": {},
   "outputs": [],
   "source": [
    "# Extension without modification\n",
    "\n",
    "class SuperVIPDiscount(VIPDiscount):\n",
    "    \n",
    "    def get_discount(self):\n",
    "        return super().get_discount() * 2"
   ]
  },
  {
   "cell_type": "markdown",
   "metadata": {},
   "source": [
    "__Interface Segregation Principle__\n",
    "\n",
    "- Make fine grained interfaces that are client specific Clients should not be forced to depend upon interfaces that they do not use.\n",
    "- This principle deals with the disadvantages of implementing big interfaces."
   ]
  },
  {
   "cell_type": "code",
   "execution_count": 17,
   "metadata": {},
   "outputs": [],
   "source": [
    "from abc import ABC, abstractmethod\n",
    "\n",
    "class IShape(ABC):\n",
    "    \n",
    "    @abstractmethod\n",
    "    def draw(self):\n",
    "        raise NotImplementedError"
   ]
  },
  {
   "cell_type": "code",
   "execution_count": 20,
   "metadata": {},
   "outputs": [
    {
     "ename": "TypeError",
     "evalue": "Can't instantiate abstract class Circle with abstract methods draw",
     "output_type": "error",
     "traceback": [
      "\u001b[0;31m---------------------------------------------------------------------------\u001b[0m",
      "\u001b[0;31mTypeError\u001b[0m                                 Traceback (most recent call last)",
      "\u001b[0;32m<ipython-input-20-7ba680832e9a>\u001b[0m in \u001b[0;36m<module>\u001b[0;34m\u001b[0m\n\u001b[1;32m      2\u001b[0m     \u001b[0;32mpass\u001b[0m\u001b[0;34m\u001b[0m\u001b[0;34m\u001b[0m\u001b[0m\n\u001b[1;32m      3\u001b[0m \u001b[0;34m\u001b[0m\u001b[0m\n\u001b[0;32m----> 4\u001b[0;31m \u001b[0mc\u001b[0m \u001b[0;34m=\u001b[0m \u001b[0mCircle\u001b[0m\u001b[0;34m(\u001b[0m\u001b[0;34m)\u001b[0m\u001b[0;34m\u001b[0m\u001b[0;34m\u001b[0m\u001b[0m\n\u001b[0m",
      "\u001b[0;31mTypeError\u001b[0m: Can't instantiate abstract class Circle with abstract methods draw"
     ]
    }
   ],
   "source": [
    "class Circle(IShape):\n",
    "    pass\n",
    "\n",
    "c = Circle()"
   ]
  },
  {
   "cell_type": "code",
   "execution_count": 21,
   "metadata": {},
   "outputs": [
    {
     "name": "stdout",
     "output_type": "stream",
     "text": [
      "In Circle\n"
     ]
    }
   ],
   "source": [
    "class Circle(IShape):\n",
    "    \n",
    "    def draw(self):\n",
    "        print(\"In Circle\")\n",
    "\n",
    "c = Circle()\n",
    "c.draw()"
   ]
  },
  {
   "cell_type": "code",
   "execution_count": 23,
   "metadata": {},
   "outputs": [],
   "source": [
    "from abc import ABC, abstractmethod\n",
    "\n",
    "\n",
    "class NetworkInterface(ABC):\n",
    "\n",
    "    @abstractmethod\n",
    "    def connect(self):\n",
    "        pass\n",
    "\n",
    "    @abstractmethod\n",
    "    def transfer(self):\n",
    "        pass\n",
    "\n",
    "\n",
    "class RealNetwork(NetworkInterface):\n",
    "\n",
    "    def connect(self):\n",
    "        # connect to something for real\n",
    "        return\n",
    "\n",
    "    def transfer(self):\n",
    "        # transfer a bunch of data\n",
    "        return\n",
    "\n",
    "\n",
    "class TemporaryNetwork(NetworkInterface):\n",
    "\n",
    "    def connect(self):\n",
    "        # don't actually connect to anything!\n",
    "        return\n",
    "\n",
    "    def transfer(self):\n",
    "        # don't transfer anything!\n",
    "        return"
   ]
  },
  {
   "cell_type": "markdown",
   "metadata": {},
   "source": [
    "- A single class can implement several interfaces if needed.\n",
    "- So we can provide a single implementation for all the common methods between the interfaces.\n",
    "- The segregated interfaces will also force us to think of our code more from the client’s point of view, which will in turn lead to loose coupling and easy testing.\n",
    "- So, not only have we made our code better to our clients, we also made it easier for ourselves to understand, test and implement."
   ]
  },
  {
   "cell_type": "code",
   "execution_count": null,
   "metadata": {},
   "outputs": [],
   "source": []
  }
 ],
 "metadata": {
  "kernelspec": {
   "display_name": "Python 3",
   "language": "python",
   "name": "python3"
  },
  "language_info": {
   "codemirror_mode": {
    "name": "ipython",
    "version": 3
   },
   "file_extension": ".py",
   "mimetype": "text/x-python",
   "name": "python",
   "nbconvert_exporter": "python",
   "pygments_lexer": "ipython3",
   "version": "3.8.1"
  }
 },
 "nbformat": 4,
 "nbformat_minor": 4
}
