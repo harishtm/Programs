{
 "cells": [
  {
   "cell_type": "code",
   "execution_count": 1,
   "metadata": {},
   "outputs": [],
   "source": [
    "import re"
   ]
  },
  {
   "cell_type": "code",
   "execution_count": 2,
   "metadata": {},
   "outputs": [],
   "source": [
    "# extract maximum numeric value from a given string\n",
    "st = \"he is from 12Team, #15, austin 34\""
   ]
  },
  {
   "cell_type": "code",
   "execution_count": 3,
   "metadata": {},
   "outputs": [
    {
     "data": {
      "text/plain": [
       "['12', '15', '34']"
      ]
     },
     "execution_count": 3,
     "metadata": {},
     "output_type": "execute_result"
    }
   ],
   "source": [
    "re.findall('\\d+', st)"
   ]
  },
  {
   "cell_type": "code",
   "execution_count": 4,
   "metadata": {},
   "outputs": [
    {
     "data": {
      "text/plain": [
       "34"
      ]
     },
     "execution_count": 4,
     "metadata": {},
     "output_type": "execute_result"
    }
   ],
   "source": [
    "max(map(int, re.findall('\\d+', st))) # converting to int and finding the max"
   ]
  },
  {
   "cell_type": "code",
   "execution_count": 5,
   "metadata": {},
   "outputs": [
    {
     "data": {
      "text/plain": [
       "['john smith']"
      ]
     },
     "execution_count": 5,
     "metadata": {},
     "output_type": "execute_result"
    }
   ],
   "source": [
    "# Find the srting between hashes\n",
    "st = \"my name is #john smith# from flodira\"\n",
    "re.findall(r'\\#(.*?)\\#', st)"
   ]
  },
  {
   "cell_type": "markdown",
   "metadata": {},
   "source": [
    "## MetaCharacters\n",
    "### Metacharacters are characters that are interpreted in a special way by a RegEx engine.\n",
    "\n",
    "Here's a list of metacharacters [] . ^ $ * + ? {} () \\ |:\n",
    "\n",
    " - Square ([]): A set of characters to match.\n",
    " - Dot (.): Any single character (except newline '\\n').\n",
    " - Caret (^): is used to check if a string starts with a certain character.\n",
    " - Dollar ($): is used to check if a string ends with a certain character.\n",
    " - Star (*): matches zero or more occurrences of the pattern left to it.\n",
    " - Plus (+): matches one or more occurrences of the pattern left to it.\n",
    " - Question Mark (?): matches zero or one occurrences of the pattern left to it.\n",
    " - Braces ({n, m}): This means at least n and atmost m represntation of the pattern left to it.\n",
    " - Alternation (|): Vertical bar (|) is used for alternation (or operator)\n",
    " - Group () : Parentheses () is used to group sub-patterns. For example, (a|b|c)xz match any string that matches either a or b or c followed by xz\n",
    " - Backslash (\\): Backlash \\ is used to escape various characters including all metacharacters. "
   ]
  },
  {
   "cell_type": "raw",
   "metadata": {},
   "source": [
    "Backslash - For example, \"\\$a\" match if a string contains $ followed by a. Here, $ is not interpreted by a RegEx engine in a special way."
   ]
  },
  {
   "cell_type": "markdown",
   "metadata": {},
   "source": [
    "Scan through string looking for a match to the pattern, returning a Match object, or None if no match was found"
   ]
  },
  {
   "cell_type": "code",
   "execution_count": 6,
   "metadata": {},
   "outputs": [
    {
     "name": "stdout",
     "output_type": "stream",
     "text": [
      "<re.Match object; span=(0, 6), match='animal'>\n",
      "None\n"
     ]
    }
   ],
   "source": [
    "# Regex to find string starting with vowel\n",
    "st = 'animal'\n",
    "st1 = 'john smith the game changer'\n",
    "pattern = '^[aeiouAEIOU][a-zA-Z]*'\n",
    "print(re.search(pattern, st))\n",
    "print(re.search(pattern, st1))"
   ]
  },
  {
   "cell_type": "markdown",
   "metadata": {},
   "source": [
    "__Important concepts in regular expression__\n",
    " - Greedy Matching\n",
    " - Positive Lookahead\n",
    " - Negative Lookahead\n",
    " - Positive lookbehind\n",
    " - Negative lookbehind"
   ]
  },
  {
   "cell_type": "code",
   "execution_count": 7,
   "metadata": {},
   "outputs": [],
   "source": [
    "mystr = \"the animal name='elephant' and lives in zoo name='Woodland Park'\""
   ]
  },
  {
   "cell_type": "code",
   "execution_count": 8,
   "metadata": {},
   "outputs": [
    {
     "data": {
      "text/plain": [
       "<re.Match object; span=(11, 64), match=\"name='elephant' and lives in zoo name='Woodland P>"
      ]
     },
     "execution_count": 8,
     "metadata": {},
     "output_type": "execute_result"
    }
   ],
   "source": [
    "# Regex to extract first name and value\n",
    "re.search(r'name=\\'(.*)\\'', mystr)"
   ]
  },
  {
   "cell_type": "code",
   "execution_count": 9,
   "metadata": {},
   "outputs": [
    {
     "data": {
      "text/plain": [
       "\"name='elephant' and lives in zoo name='Woodland Park'\""
      ]
     },
     "execution_count": 9,
     "metadata": {},
     "output_type": "execute_result"
    }
   ],
   "source": [
    "mystr[11:64]"
   ]
  },
  {
   "cell_type": "markdown",
   "metadata": {},
   "source": [
    "In regex * and + are greedy\n",
    "\n",
    "In the above example the regex engine did not stop at first end of single quote insted it continued till last\n",
    "\n",
    "To make regex turn from greedy into non greedy and thats the way to stop at the first tick"
   ]
  },
  {
   "cell_type": "code",
   "execution_count": 10,
   "metadata": {},
   "outputs": [],
   "source": [
    "# Adding ? will make non greedy\n",
    "m = re.search(r'name=\\'(.*?)\\'', mystr)"
   ]
  },
  {
   "cell_type": "code",
   "execution_count": 11,
   "metadata": {},
   "outputs": [
    {
     "data": {
      "text/plain": [
       "<re.Match object; span=(11, 26), match=\"name='elephant'\">"
      ]
     },
     "execution_count": 11,
     "metadata": {},
     "output_type": "execute_result"
    }
   ],
   "source": [
    "m"
   ]
  },
  {
   "cell_type": "code",
   "execution_count": 12,
   "metadata": {},
   "outputs": [
    {
     "data": {
      "text/plain": [
       "\"name='elephant'\""
      ]
     },
     "execution_count": 12,
     "metadata": {},
     "output_type": "execute_result"
    }
   ],
   "source": [
    "mystr[11:26]"
   ]
  },
  {
   "cell_type": "code",
   "execution_count": 13,
   "metadata": {},
   "outputs": [
    {
     "data": {
      "text/plain": [
       "\"name='elephant'\""
      ]
     },
     "execution_count": 13,
     "metadata": {},
     "output_type": "execute_result"
    }
   ],
   "source": [
    "m.group()"
   ]
  },
  {
   "cell_type": "code",
   "execution_count": 14,
   "metadata": {},
   "outputs": [
    {
     "data": {
      "text/plain": [
       "['elephant', 'Woodland Park']"
      ]
     },
     "execution_count": 14,
     "metadata": {},
     "output_type": "execute_result"
    }
   ],
   "source": [
    "# What if we have to find all values prepended with name use re.findall()\n",
    "re.findall(r'name=\\'(.*?)\\'', mystr)"
   ]
  },
  {
   "cell_type": "code",
   "execution_count": 15,
   "metadata": {},
   "outputs": [],
   "source": [
    "newstr = 'ababaaaaabbbaaabbaababab'"
   ]
  },
  {
   "cell_type": "code",
   "execution_count": 16,
   "metadata": {},
   "outputs": [
    {
     "data": {
      "text/plain": [
       "<re.Match object; span=(9, 10), match='b'>"
      ]
     },
     "execution_count": 16,
     "metadata": {},
     "output_type": "execute_result"
    }
   ],
   "source": [
    "# Lookahead - (?=........)\n",
    "# Find the first b which is followed by b\n",
    "re.search(r'b(?=b)', newstr)"
   ]
  },
  {
   "cell_type": "code",
   "execution_count": 17,
   "metadata": {},
   "outputs": [
    {
     "data": {
      "text/plain": [
       "<re.Match object; span=(9, 10), match='b'>"
      ]
     },
     "execution_count": 17,
     "metadata": {},
     "output_type": "execute_result"
    }
   ],
   "source": [
    "# Lookbehind\n",
    "# Find the first b which is preceded by 3 a\n",
    "re.search(r'(?<=a{3})b', newstr)"
   ]
  },
  {
   "cell_type": "code",
   "execution_count": 18,
   "metadata": {},
   "outputs": [
    {
     "data": {
      "text/plain": [
       "<re.Match object; span=(9, 10), match='b'>"
      ]
     },
     "execution_count": 18,
     "metadata": {},
     "output_type": "execute_result"
    }
   ],
   "source": [
    "# Negative lookahead (i,e) Something not followed by something\n",
    "# Find first b which is not followed by a\n",
    "re.search(r'b(?!a)', newstr)"
   ]
  },
  {
   "cell_type": "code",
   "execution_count": 19,
   "metadata": {},
   "outputs": [
    {
     "data": {
      "text/plain": [
       "<re.Match object; span=(0, 1), match='a'>"
      ]
     },
     "execution_count": 19,
     "metadata": {},
     "output_type": "execute_result"
    }
   ],
   "source": [
    "# Negative lookbehind (i,e) looks back something should not be there\n",
    "# Find a which does not have b before it\n",
    "re.search(r'(?<!b)a', newstr)"
   ]
  },
  {
   "cell_type": "code",
   "execution_count": 20,
   "metadata": {},
   "outputs": [
    {
     "data": {
      "text/plain": [
       "<re.Match object; span=(10, 11), match='b'>"
      ]
     },
     "execution_count": 20,
     "metadata": {},
     "output_type": "execute_result"
    }
   ],
   "source": [
    "# Negative lookbehind\n",
    "# Find b which does not have a preceding with it\n",
    "re.search(r'(?<!a)b', newstr)"
   ]
  },
  {
   "cell_type": "code",
   "execution_count": 21,
   "metadata": {},
   "outputs": [],
   "source": [
    "# pattern = \"(?=[a-zA-Z])(?<=[0-9])\"\n",
    "# pattern = \"(?<=[0-9])(?=[a-zA-Z])\"\n",
    "# re.split(pattern, st)\n",
    "# \"\".join([i[0]*int(i[1:]) for i in re.split(pattern, st)])\n",
    "# st = 'a10b2c3'"
   ]
  },
  {
   "cell_type": "markdown",
   "metadata": {},
   "source": [
    "Print"
   ]
  },
  {
   "cell_type": "code",
   "execution_count": 22,
   "metadata": {},
   "outputs": [],
   "source": [
    "st = 'a10b2c3'"
   ]
  },
  {
   "cell_type": "code",
   "execution_count": 23,
   "metadata": {},
   "outputs": [],
   "source": [
    "# pattern = \"(?=[a-zA-Z])(?<=[0-9])\"\n",
    "pattern = \"(?<=[0-9])(?=[a-zA-Z])\" "
   ]
  },
  {
   "cell_type": "code",
   "execution_count": 24,
   "metadata": {},
   "outputs": [
    {
     "data": {
      "text/plain": [
       "['a10', 'b2', 'c3']"
      ]
     },
     "execution_count": 24,
     "metadata": {},
     "output_type": "execute_result"
    }
   ],
   "source": [
    "re.split(pattern, st)"
   ]
  },
  {
   "cell_type": "code",
   "execution_count": 25,
   "metadata": {},
   "outputs": [
    {
     "data": {
      "text/plain": [
       "'aaaaaaaaaabbccc'"
      ]
     },
     "execution_count": 25,
     "metadata": {},
     "output_type": "execute_result"
    }
   ],
   "source": [
    "\"\".join([i[0]*int(i[1:]) for i in re.split(pattern, st)])"
   ]
  },
  {
   "cell_type": "code",
   "execution_count": 26,
   "metadata": {},
   "outputs": [],
   "source": [
    "st = 'aa5b2c3'"
   ]
  },
  {
   "cell_type": "code",
   "execution_count": 27,
   "metadata": {},
   "outputs": [
    {
     "data": {
      "text/plain": [
       "['aa5', 'b2', 'c3']"
      ]
     },
     "execution_count": 27,
     "metadata": {},
     "output_type": "execute_result"
    }
   ],
   "source": [
    "re.split(pattern, st)"
   ]
  },
  {
   "cell_type": "code",
   "execution_count": 28,
   "metadata": {},
   "outputs": [
    {
     "name": "stdout",
     "output_type": "stream",
     "text": [
      "aaaaaaaaaabbccc\n"
     ]
    }
   ],
   "source": [
    "ch, res = [], []\n",
    "for i in re.split(pattern, st):\n",
    "    for j in i:\n",
    "        if j.isdigit():\n",
    "            res.append(\"\".join(ch)*int(j))\n",
    "            ch = []\n",
    "        else:\n",
    "            ch.append(j)\n",
    "print(\"\".join(res))"
   ]
  },
  {
   "cell_type": "code",
   "execution_count": null,
   "metadata": {},
   "outputs": [],
   "source": []
  }
 ],
 "metadata": {
  "kernelspec": {
   "display_name": "Python 3",
   "language": "python",
   "name": "python3"
  },
  "language_info": {
   "codemirror_mode": {
    "name": "ipython",
    "version": 3
   },
   "file_extension": ".py",
   "mimetype": "text/x-python",
   "name": "python",
   "nbconvert_exporter": "python",
   "pygments_lexer": "ipython3",
   "version": "3.8.1"
  }
 },
 "nbformat": 4,
 "nbformat_minor": 4
}
