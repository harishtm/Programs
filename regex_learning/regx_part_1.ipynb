{
 "cells": [
  {
   "cell_type": "code",
   "execution_count": 1,
   "metadata": {},
   "outputs": [],
   "source": [
    "import re"
   ]
  },
  {
   "cell_type": "code",
   "execution_count": 2,
   "metadata": {},
   "outputs": [],
   "source": [
    "# extract maximum numeric value from a given string\n",
    "st = \"he is from 12Team, #15, austin 34\""
   ]
  },
  {
   "cell_type": "code",
   "execution_count": 3,
   "metadata": {},
   "outputs": [
    {
     "data": {
      "text/plain": [
       "['12', '15', '34']"
      ]
     },
     "execution_count": 3,
     "metadata": {},
     "output_type": "execute_result"
    }
   ],
   "source": [
    "re.findall('\\d+', st)"
   ]
  },
  {
   "cell_type": "code",
   "execution_count": 4,
   "metadata": {},
   "outputs": [
    {
     "data": {
      "text/plain": [
       "34"
      ]
     },
     "execution_count": 4,
     "metadata": {},
     "output_type": "execute_result"
    }
   ],
   "source": [
    "max(map(int, re.findall('\\d+', st))) # converting to int and finding the max"
   ]
  },
  {
   "cell_type": "code",
   "execution_count": 5,
   "metadata": {},
   "outputs": [
    {
     "data": {
      "text/plain": [
       "['john smith']"
      ]
     },
     "execution_count": 5,
     "metadata": {},
     "output_type": "execute_result"
    }
   ],
   "source": [
    "# Find the srting between hashes\n",
    "st = \"my name is #john smith# from flodira\"\n",
    "re.findall(r'\\#(.*?)\\#', st)"
   ]
  },
  {
   "cell_type": "markdown",
   "metadata": {},
   "source": [
    "## MetaCharacters\n",
    "### Metacharacters are characters that are interpreted in a special way by a RegEx engine.\n",
    "\n",
    "Here's a list of metacharacters [] . ^ $ * + ? {} () \\ |:\n",
    "\n",
    " - Square ([]): A set of characters to match.\n",
    " - Dot (.): Any single character (except newline '\\n').\n",
    " - Caret (^): is used to check if a string starts with a certain character.\n",
    " - Dollar ($): is used to check if a string ends with a certain character.\n",
    " - Star (*): matches zero or more occurrences of the pattern left to it.\n",
    " - Plus (+): matches one or more occurrences of the pattern left to it.\n",
    " - Question Mark (?): matches zero or one occurrences of the pattern left to it.\n",
    " - Braces ({n, m}): This means at least n and atmost m represntation of the pattern left to it.\n",
    " - Alternation (|): Vertical bar (|) is used for alternation (or operator)\n",
    " - Group () : Parentheses () is used to group sub-patterns. For example, (a|b|c)xz match any string that matches either a or b or c followed by xz\n",
    " - Backslash (\\): Backlash \\ is used to escape various characters including all metacharacters. "
   ]
  },
  {
   "cell_type": "raw",
   "metadata": {},
   "source": [
    "Backslash - For example, \"\\$a\" match if a string contains $ followed by a. Here, $ is not interpreted by a RegEx engine in a special way."
   ]
  },
  {
   "cell_type": "markdown",
   "metadata": {},
   "source": [
    "Scan through string looking for a match to the pattern, returning a Match object, or None if no match was found"
   ]
  },
  {
   "cell_type": "code",
   "execution_count": 8,
   "metadata": {},
   "outputs": [
    {
     "name": "stdout",
     "output_type": "stream",
     "text": [
      "<re.Match object; span=(0, 6), match='animal'>\n",
      "None\n"
     ]
    }
   ],
   "source": [
    "# Regex to find string starting with vowel\n",
    "st = 'animal'\n",
    "st1 = 'john smith the game changer'\n",
    "pattern = '^[aeiouAEIOU][a-zA-Z]*'\n",
    "print(re.search(pattern, st))\n",
    "print(re.search(pattern, st1))"
   ]
  },
  {
   "cell_type": "code",
   "execution_count": null,
   "metadata": {},
   "outputs": [],
   "source": []
  },
  {
   "cell_type": "code",
   "execution_count": null,
   "metadata": {},
   "outputs": [],
   "source": []
  }
 ],
 "metadata": {
  "kernelspec": {
   "display_name": "Python 3",
   "language": "python",
   "name": "python3"
  },
  "language_info": {
   "codemirror_mode": {
    "name": "ipython",
    "version": 3
   },
   "file_extension": ".py",
   "mimetype": "text/x-python",
   "name": "python",
   "nbconvert_exporter": "python",
   "pygments_lexer": "ipython3",
   "version": "3.8.1"
  }
 },
 "nbformat": 4,
 "nbformat_minor": 4
}
