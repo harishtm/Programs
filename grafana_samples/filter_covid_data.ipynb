{
 "cells": [
  {
   "cell_type": "code",
   "execution_count": 1,
   "id": "a36c4dfe",
   "metadata": {},
   "outputs": [],
   "source": [
    "import pandas as pd"
   ]
  },
  {
   "cell_type": "code",
   "execution_count": 2,
   "id": "23dda586",
   "metadata": {},
   "outputs": [],
   "source": [
    "df = pd.read_csv(\"covid_19_data.csv\")"
   ]
  },
  {
   "cell_type": "code",
   "execution_count": 3,
   "id": "164f3df9",
   "metadata": {},
   "outputs": [
    {
     "data": {
      "text/plain": [
       "(306429, 8)"
      ]
     },
     "execution_count": 3,
     "metadata": {},
     "output_type": "execute_result"
    }
   ],
   "source": [
    "df.shape"
   ]
  },
  {
   "cell_type": "code",
   "execution_count": 4,
   "id": "5ea910cb",
   "metadata": {},
   "outputs": [],
   "source": [
    "df.dropna(inplace=True)"
   ]
  },
  {
   "cell_type": "code",
   "execution_count": 5,
   "id": "a9a4d02e",
   "metadata": {},
   "outputs": [
    {
     "data": {
      "text/plain": [
       "(228329, 8)"
      ]
     },
     "execution_count": 5,
     "metadata": {},
     "output_type": "execute_result"
    }
   ],
   "source": [
    "df.shape"
   ]
  },
  {
   "cell_type": "code",
   "execution_count": 10,
   "id": "267dfcf6",
   "metadata": {},
   "outputs": [],
   "source": [
    "df = df[df[\"Country/Region\"]==\"India\"]"
   ]
  },
  {
   "cell_type": "code",
   "execution_count": 11,
   "id": "a0ba88c9",
   "metadata": {},
   "outputs": [
    {
     "data": {
      "text/html": [
       "<div>\n",
       "<style scoped>\n",
       "    .dataframe tbody tr th:only-of-type {\n",
       "        vertical-align: middle;\n",
       "    }\n",
       "\n",
       "    .dataframe tbody tr th {\n",
       "        vertical-align: top;\n",
       "    }\n",
       "\n",
       "    .dataframe thead th {\n",
       "        text-align: right;\n",
       "    }\n",
       "</style>\n",
       "<table border=\"1\" class=\"dataframe\">\n",
       "  <thead>\n",
       "    <tr style=\"text-align: right;\">\n",
       "      <th></th>\n",
       "      <th>SNo</th>\n",
       "      <th>ObservationDate</th>\n",
       "      <th>Province/State</th>\n",
       "      <th>Country/Region</th>\n",
       "      <th>Last Update</th>\n",
       "      <th>Confirmed</th>\n",
       "      <th>Deaths</th>\n",
       "      <th>Recovered</th>\n",
       "    </tr>\n",
       "  </thead>\n",
       "  <tbody>\n",
       "    <tr>\n",
       "      <th>39260</th>\n",
       "      <td>39261</td>\n",
       "      <td>06/10/2020</td>\n",
       "      <td>Andaman and Nicobar Islands</td>\n",
       "      <td>India</td>\n",
       "      <td>2021-04-02 15:13:53</td>\n",
       "      <td>33.0</td>\n",
       "      <td>0.0</td>\n",
       "      <td>33.0</td>\n",
       "    </tr>\n",
       "    <tr>\n",
       "      <th>39261</th>\n",
       "      <td>39262</td>\n",
       "      <td>06/10/2020</td>\n",
       "      <td>Andhra Pradesh</td>\n",
       "      <td>India</td>\n",
       "      <td>2021-04-02 15:13:53</td>\n",
       "      <td>5070.0</td>\n",
       "      <td>77.0</td>\n",
       "      <td>2802.0</td>\n",
       "    </tr>\n",
       "    <tr>\n",
       "      <th>39277</th>\n",
       "      <td>39278</td>\n",
       "      <td>06/10/2020</td>\n",
       "      <td>Arunachal Pradesh</td>\n",
       "      <td>India</td>\n",
       "      <td>2021-04-02 15:13:53</td>\n",
       "      <td>57.0</td>\n",
       "      <td>0.0</td>\n",
       "      <td>1.0</td>\n",
       "    </tr>\n",
       "    <tr>\n",
       "      <th>39278</th>\n",
       "      <td>39279</td>\n",
       "      <td>06/10/2020</td>\n",
       "      <td>Assam</td>\n",
       "      <td>India</td>\n",
       "      <td>2021-04-02 15:13:53</td>\n",
       "      <td>2937.0</td>\n",
       "      <td>4.0</td>\n",
       "      <td>1085.0</td>\n",
       "    </tr>\n",
       "    <tr>\n",
       "      <th>39300</th>\n",
       "      <td>39301</td>\n",
       "      <td>06/10/2020</td>\n",
       "      <td>Bihar</td>\n",
       "      <td>India</td>\n",
       "      <td>2021-04-02 15:13:53</td>\n",
       "      <td>5459.0</td>\n",
       "      <td>32.0</td>\n",
       "      <td>2864.0</td>\n",
       "    </tr>\n",
       "    <tr>\n",
       "      <th>...</th>\n",
       "      <td>...</td>\n",
       "      <td>...</td>\n",
       "      <td>...</td>\n",
       "      <td>...</td>\n",
       "      <td>...</td>\n",
       "      <td>...</td>\n",
       "      <td>...</td>\n",
       "      <td>...</td>\n",
       "    </tr>\n",
       "    <tr>\n",
       "      <th>306351</th>\n",
       "      <td>306352</td>\n",
       "      <td>05/29/2021</td>\n",
       "      <td>Tripura</td>\n",
       "      <td>India</td>\n",
       "      <td>2021-05-30 04:20:55</td>\n",
       "      <td>50739.0</td>\n",
       "      <td>507.0</td>\n",
       "      <td>43190.0</td>\n",
       "    </tr>\n",
       "    <tr>\n",
       "      <th>306366</th>\n",
       "      <td>306367</td>\n",
       "      <td>05/29/2021</td>\n",
       "      <td>Unknown</td>\n",
       "      <td>India</td>\n",
       "      <td>2021-05-30 04:20:55</td>\n",
       "      <td>0.0</td>\n",
       "      <td>0.0</td>\n",
       "      <td>0.0</td>\n",
       "    </tr>\n",
       "    <tr>\n",
       "      <th>306377</th>\n",
       "      <td>306378</td>\n",
       "      <td>05/29/2021</td>\n",
       "      <td>Uttar Pradesh</td>\n",
       "      <td>India</td>\n",
       "      <td>2021-05-30 04:20:55</td>\n",
       "      <td>1688152.0</td>\n",
       "      <td>20208.0</td>\n",
       "      <td>1621743.0</td>\n",
       "    </tr>\n",
       "    <tr>\n",
       "      <th>306378</th>\n",
       "      <td>306379</td>\n",
       "      <td>05/29/2021</td>\n",
       "      <td>Uttarakhand</td>\n",
       "      <td>India</td>\n",
       "      <td>2021-05-30 04:20:55</td>\n",
       "      <td>327112.0</td>\n",
       "      <td>6360.0</td>\n",
       "      <td>289642.0</td>\n",
       "    </tr>\n",
       "    <tr>\n",
       "      <th>306406</th>\n",
       "      <td>306407</td>\n",
       "      <td>05/29/2021</td>\n",
       "      <td>West Bengal</td>\n",
       "      <td>India</td>\n",
       "      <td>2021-05-30 04:20:55</td>\n",
       "      <td>1354956.0</td>\n",
       "      <td>15268.0</td>\n",
       "      <td>1237290.0</td>\n",
       "    </tr>\n",
       "  </tbody>\n",
       "</table>\n",
       "<p>13050 rows × 8 columns</p>\n",
       "</div>"
      ],
      "text/plain": [
       "           SNo ObservationDate               Province/State Country/Region  \\\n",
       "39260    39261      06/10/2020  Andaman and Nicobar Islands          India   \n",
       "39261    39262      06/10/2020               Andhra Pradesh          India   \n",
       "39277    39278      06/10/2020            Arunachal Pradesh          India   \n",
       "39278    39279      06/10/2020                        Assam          India   \n",
       "39300    39301      06/10/2020                        Bihar          India   \n",
       "...        ...             ...                          ...            ...   \n",
       "306351  306352      05/29/2021                      Tripura          India   \n",
       "306366  306367      05/29/2021                      Unknown          India   \n",
       "306377  306378      05/29/2021                Uttar Pradesh          India   \n",
       "306378  306379      05/29/2021                  Uttarakhand          India   \n",
       "306406  306407      05/29/2021                  West Bengal          India   \n",
       "\n",
       "                Last Update  Confirmed   Deaths  Recovered  \n",
       "39260   2021-04-02 15:13:53       33.0      0.0       33.0  \n",
       "39261   2021-04-02 15:13:53     5070.0     77.0     2802.0  \n",
       "39277   2021-04-02 15:13:53       57.0      0.0        1.0  \n",
       "39278   2021-04-02 15:13:53     2937.0      4.0     1085.0  \n",
       "39300   2021-04-02 15:13:53     5459.0     32.0     2864.0  \n",
       "...                     ...        ...      ...        ...  \n",
       "306351  2021-05-30 04:20:55    50739.0    507.0    43190.0  \n",
       "306366  2021-05-30 04:20:55        0.0      0.0        0.0  \n",
       "306377  2021-05-30 04:20:55  1688152.0  20208.0  1621743.0  \n",
       "306378  2021-05-30 04:20:55   327112.0   6360.0   289642.0  \n",
       "306406  2021-05-30 04:20:55  1354956.0  15268.0  1237290.0  \n",
       "\n",
       "[13050 rows x 8 columns]"
      ]
     },
     "execution_count": 11,
     "metadata": {},
     "output_type": "execute_result"
    }
   ],
   "source": [
    "df"
   ]
  },
  {
   "cell_type": "code",
   "execution_count": null,
   "id": "938164d8",
   "metadata": {},
   "outputs": [],
   "source": []
  }
 ],
 "metadata": {
  "kernelspec": {
   "display_name": "Python 3",
   "language": "python",
   "name": "python3"
  },
  "language_info": {
   "codemirror_mode": {
    "name": "ipython",
    "version": 3
   },
   "file_extension": ".py",
   "mimetype": "text/x-python",
   "name": "python",
   "nbconvert_exporter": "python",
   "pygments_lexer": "ipython3",
   "version": "3.9.0"
  }
 },
 "nbformat": 4,
 "nbformat_minor": 5
}
